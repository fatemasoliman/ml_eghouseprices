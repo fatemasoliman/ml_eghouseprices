{
 "cells": [
  {
   "cell_type": "code",
   "execution_count": 257,
   "metadata": {},
   "outputs": [],
   "source": [
    "import pandas as pd\n",
    "import numpy as np\n",
    "from sklearn import preprocessing\n",
    "from sklearn.model_selection import train_test_split\n",
    "from sklearn.ensemble import RandomForestRegressor\n",
    "from sklearn.model_selection import GridSearchCV\n",
    "from sklearn.model_selection import cross_val_score\n",
    "from sklearn.metrics import mean_squared_log_error"
   ]
  },
  {
   "cell_type": "markdown",
   "metadata": {},
   "source": [
    "# LOAD DATA"
   ]
  },
  {
   "cell_type": "code",
   "execution_count": 189,
   "metadata": {},
   "outputs": [],
   "source": [
    "props_raw = pd.read_csv(\"props_polygons.csv\", index_col = 0)"
   ]
  },
  {
   "cell_type": "code",
   "execution_count": 190,
   "metadata": {},
   "outputs": [
    {
     "data": {
      "text/html": [
       "<div>\n",
       "<style scoped>\n",
       "    .dataframe tbody tr th:only-of-type {\n",
       "        vertical-align: middle;\n",
       "    }\n",
       "\n",
       "    .dataframe tbody tr th {\n",
       "        vertical-align: top;\n",
       "    }\n",
       "\n",
       "    .dataframe thead th {\n",
       "        text-align: right;\n",
       "    }\n",
       "</style>\n",
       "<table border=\"1\" class=\"dataframe\">\n",
       "  <thead>\n",
       "    <tr style=\"text-align: right;\">\n",
       "      <th></th>\n",
       "      <th>X</th>\n",
       "      <th>address</th>\n",
       "      <th>bath</th>\n",
       "      <th>bed</th>\n",
       "      <th>description</th>\n",
       "      <th>link</th>\n",
       "      <th>price</th>\n",
       "      <th>propname</th>\n",
       "      <th>proptype</th>\n",
       "      <th>sqm</th>\n",
       "      <th>...</th>\n",
       "      <th>ADM0_AR</th>\n",
       "      <th>ADM0_PCODE</th>\n",
       "      <th>date</th>\n",
       "      <th>validOn</th>\n",
       "      <th>ValidTo</th>\n",
       "      <th>Shape_Leng</th>\n",
       "      <th>Shape_Area</th>\n",
       "      <th>coords.x1</th>\n",
       "      <th>coords.x2</th>\n",
       "      <th>optional</th>\n",
       "    </tr>\n",
       "  </thead>\n",
       "  <tbody>\n",
       "    <tr>\n",
       "      <td>1</td>\n",
       "      <td>0</td>\n",
       "      <td>Villa for Sale in October Hills, South Dahshur...</td>\n",
       "      <td>5.0</td>\n",
       "      <td>5.0</td>\n",
       "      <td>October hills VILLA delivered                 ...</td>\n",
       "      <td>https://m.propertyfinder.eg/en/buy/villa-for-s...</td>\n",
       "      <td>6800000.0</td>\n",
       "      <td>October hills VILLA  delivered</td>\n",
       "      <td>Villa</td>\n",
       "      <td>670</td>\n",
       "      <td>...</td>\n",
       "      <td>مِصر</td>\n",
       "      <td>EG</td>\n",
       "      <td>2006/01/01</td>\n",
       "      <td>2017/04/21</td>\n",
       "      <td>NaN</td>\n",
       "      <td>0.254109</td>\n",
       "      <td>0.003076</td>\n",
       "      <td>30.974007</td>\n",
       "      <td>30.012644</td>\n",
       "      <td>True</td>\n",
       "    </tr>\n",
       "    <tr>\n",
       "      <td>2</td>\n",
       "      <td>1</td>\n",
       "      <td>Apartment for Sale in October Hills, South Dah...</td>\n",
       "      <td>3.0</td>\n",
       "      <td>3.0</td>\n",
       "      <td>#Jadeer_Now_in_Zayed,\\nWe present to you our n...</td>\n",
       "      <td>https://m.propertyfinder.eg/en/buy/apartment-f...</td>\n",
       "      <td>1219400.0</td>\n",
       "      <td>#Jadeer #Zayed (182 M²)</td>\n",
       "      <td>Apartment</td>\n",
       "      <td>182</td>\n",
       "      <td>...</td>\n",
       "      <td>مِصر</td>\n",
       "      <td>EG</td>\n",
       "      <td>2006/01/01</td>\n",
       "      <td>2017/04/21</td>\n",
       "      <td>NaN</td>\n",
       "      <td>0.254109</td>\n",
       "      <td>0.003076</td>\n",
       "      <td>30.974007</td>\n",
       "      <td>30.012644</td>\n",
       "      <td>True</td>\n",
       "    </tr>\n",
       "    <tr>\n",
       "      <td>3</td>\n",
       "      <td>2</td>\n",
       "      <td>Villa for Sale in October Hills, South Dahshur...</td>\n",
       "      <td>5.0</td>\n",
       "      <td>5.0</td>\n",
       "      <td>October hills ,\\nStandalone villa ,\\nLand = 58...</td>\n",
       "      <td>https://m.propertyfinder.eg/en/buy/villa-for-s...</td>\n",
       "      <td>9000000.0</td>\n",
       "      <td>October Hills Villa very Prime location</td>\n",
       "      <td>Villa</td>\n",
       "      <td>580</td>\n",
       "      <td>...</td>\n",
       "      <td>مِصر</td>\n",
       "      <td>EG</td>\n",
       "      <td>2006/01/01</td>\n",
       "      <td>2017/04/21</td>\n",
       "      <td>NaN</td>\n",
       "      <td>0.254109</td>\n",
       "      <td>0.003076</td>\n",
       "      <td>30.974007</td>\n",
       "      <td>30.012644</td>\n",
       "      <td>True</td>\n",
       "    </tr>\n",
       "    <tr>\n",
       "      <td>4</td>\n",
       "      <td>3</td>\n",
       "      <td>Apartment for Sale in October Hills, South Dah...</td>\n",
       "      <td>2.0</td>\n",
       "      <td>2.0</td>\n",
       "      <td>#Jadeer_Now_in_Zayed,\\nWe present to you our n...</td>\n",
       "      <td>https://m.propertyfinder.eg/en/buy/apartment-f...</td>\n",
       "      <td>988000.0</td>\n",
       "      <td>Ground floor apartment 152 M² + 80 M² garden (...</td>\n",
       "      <td>Apartment</td>\n",
       "      <td>152</td>\n",
       "      <td>...</td>\n",
       "      <td>مِصر</td>\n",
       "      <td>EG</td>\n",
       "      <td>2006/01/01</td>\n",
       "      <td>2017/04/21</td>\n",
       "      <td>NaN</td>\n",
       "      <td>0.254109</td>\n",
       "      <td>0.003076</td>\n",
       "      <td>30.974007</td>\n",
       "      <td>30.012644</td>\n",
       "      <td>True</td>\n",
       "    </tr>\n",
       "    <tr>\n",
       "      <td>5</td>\n",
       "      <td>4</td>\n",
       "      <td>Apartment for Sale in October Hills, South Dah...</td>\n",
       "      <td>2.0</td>\n",
       "      <td>2.0</td>\n",
       "      <td>#Jadeer_Now_in_Zayed,\\nWe present to you our n...</td>\n",
       "      <td>https://m.propertyfinder.eg/en/buy/apartment-f...</td>\n",
       "      <td>799500.0</td>\n",
       "      <td>Typical apartment 123 M²  #Jadeer #Zayed</td>\n",
       "      <td>Apartment</td>\n",
       "      <td>123</td>\n",
       "      <td>...</td>\n",
       "      <td>مِصر</td>\n",
       "      <td>EG</td>\n",
       "      <td>2006/01/01</td>\n",
       "      <td>2017/04/21</td>\n",
       "      <td>NaN</td>\n",
       "      <td>0.254109</td>\n",
       "      <td>0.003076</td>\n",
       "      <td>30.974007</td>\n",
       "      <td>30.012644</td>\n",
       "      <td>True</td>\n",
       "    </tr>\n",
       "  </tbody>\n",
       "</table>\n",
       "<p>5 rows × 44 columns</p>\n",
       "</div>"
      ],
      "text/plain": [
       "   X                                            address  bath  bed  \\\n",
       "1  0  Villa for Sale in October Hills, South Dahshur...   5.0  5.0   \n",
       "2  1  Apartment for Sale in October Hills, South Dah...   3.0  3.0   \n",
       "3  2  Villa for Sale in October Hills, South Dahshur...   5.0  5.0   \n",
       "4  3  Apartment for Sale in October Hills, South Dah...   2.0  2.0   \n",
       "5  4  Apartment for Sale in October Hills, South Dah...   2.0  2.0   \n",
       "\n",
       "                                         description  \\\n",
       "1  October hills VILLA delivered                 ...   \n",
       "2  #Jadeer_Now_in_Zayed,\\nWe present to you our n...   \n",
       "3  October hills ,\\nStandalone villa ,\\nLand = 58...   \n",
       "4  #Jadeer_Now_in_Zayed,\\nWe present to you our n...   \n",
       "5  #Jadeer_Now_in_Zayed,\\nWe present to you our n...   \n",
       "\n",
       "                                                link      price  \\\n",
       "1  https://m.propertyfinder.eg/en/buy/villa-for-s...  6800000.0   \n",
       "2  https://m.propertyfinder.eg/en/buy/apartment-f...  1219400.0   \n",
       "3  https://m.propertyfinder.eg/en/buy/villa-for-s...  9000000.0   \n",
       "4  https://m.propertyfinder.eg/en/buy/apartment-f...   988000.0   \n",
       "5  https://m.propertyfinder.eg/en/buy/apartment-f...   799500.0   \n",
       "\n",
       "                                            propname   proptype  sqm  ...  \\\n",
       "1                     October hills VILLA  delivered      Villa  670  ...   \n",
       "2                            #Jadeer #Zayed (182 M²)  Apartment  182  ...   \n",
       "3            October Hills Villa very Prime location      Villa  580  ...   \n",
       "4  Ground floor apartment 152 M² + 80 M² garden (...  Apartment  152  ...   \n",
       "5           Typical apartment 123 M²  #Jadeer #Zayed  Apartment  123  ...   \n",
       "\n",
       "  ADM0_AR ADM0_PCODE        date     validOn  ValidTo Shape_Leng  Shape_Area  \\\n",
       "1    مِصر         EG  2006/01/01  2017/04/21      NaN   0.254109    0.003076   \n",
       "2    مِصر         EG  2006/01/01  2017/04/21      NaN   0.254109    0.003076   \n",
       "3    مِصر         EG  2006/01/01  2017/04/21      NaN   0.254109    0.003076   \n",
       "4    مِصر         EG  2006/01/01  2017/04/21      NaN   0.254109    0.003076   \n",
       "5    مِصر         EG  2006/01/01  2017/04/21      NaN   0.254109    0.003076   \n",
       "\n",
       "   coords.x1  coords.x2 optional  \n",
       "1  30.974007  30.012644     True  \n",
       "2  30.974007  30.012644     True  \n",
       "3  30.974007  30.012644     True  \n",
       "4  30.974007  30.012644     True  \n",
       "5  30.974007  30.012644     True  \n",
       "\n",
       "[5 rows x 44 columns]"
      ]
     },
     "execution_count": 190,
     "metadata": {},
     "output_type": "execute_result"
    }
   ],
   "source": [
    "props_raw.head()"
   ]
  },
  {
   "cell_type": "markdown",
   "metadata": {},
   "source": [
    "# CLEANING"
   ]
  },
  {
   "cell_type": "code",
   "execution_count": 191,
   "metadata": {},
   "outputs": [],
   "source": [
    "props = props_raw[[\"proptype\", \"bed\", \"bath\", \"sqm\", \"Compound\", \"Developer\", \"ADM2_EN\", \n",
    "                   \"ADM1_EN\", \"price\"]]"
   ]
  },
  {
   "cell_type": "code",
   "execution_count": 192,
   "metadata": {},
   "outputs": [
    {
     "data": {
      "text/html": [
       "<div>\n",
       "<style scoped>\n",
       "    .dataframe tbody tr th:only-of-type {\n",
       "        vertical-align: middle;\n",
       "    }\n",
       "\n",
       "    .dataframe tbody tr th {\n",
       "        vertical-align: top;\n",
       "    }\n",
       "\n",
       "    .dataframe thead th {\n",
       "        text-align: right;\n",
       "    }\n",
       "</style>\n",
       "<table border=\"1\" class=\"dataframe\">\n",
       "  <thead>\n",
       "    <tr style=\"text-align: right;\">\n",
       "      <th></th>\n",
       "      <th>proptype</th>\n",
       "      <th>bed</th>\n",
       "      <th>bath</th>\n",
       "      <th>sqm</th>\n",
       "      <th>Compound</th>\n",
       "      <th>Developer</th>\n",
       "      <th>ADM2_EN</th>\n",
       "      <th>ADM1_EN</th>\n",
       "      <th>price</th>\n",
       "    </tr>\n",
       "  </thead>\n",
       "  <tbody>\n",
       "    <tr>\n",
       "      <td>1</td>\n",
       "      <td>Villa</td>\n",
       "      <td>5.0</td>\n",
       "      <td>5.0</td>\n",
       "      <td>670</td>\n",
       "      <td>October Hills</td>\n",
       "      <td>Other</td>\n",
       "      <td>6 October-1</td>\n",
       "      <td>Giza</td>\n",
       "      <td>6800000.0</td>\n",
       "    </tr>\n",
       "    <tr>\n",
       "      <td>2</td>\n",
       "      <td>Apartment</td>\n",
       "      <td>3.0</td>\n",
       "      <td>3.0</td>\n",
       "      <td>182</td>\n",
       "      <td>October Hills</td>\n",
       "      <td>Other</td>\n",
       "      <td>6 October-1</td>\n",
       "      <td>Giza</td>\n",
       "      <td>1219400.0</td>\n",
       "    </tr>\n",
       "    <tr>\n",
       "      <td>3</td>\n",
       "      <td>Villa</td>\n",
       "      <td>5.0</td>\n",
       "      <td>5.0</td>\n",
       "      <td>580</td>\n",
       "      <td>October Hills</td>\n",
       "      <td>Other</td>\n",
       "      <td>6 October-1</td>\n",
       "      <td>Giza</td>\n",
       "      <td>9000000.0</td>\n",
       "    </tr>\n",
       "    <tr>\n",
       "      <td>4</td>\n",
       "      <td>Apartment</td>\n",
       "      <td>2.0</td>\n",
       "      <td>2.0</td>\n",
       "      <td>152</td>\n",
       "      <td>October Hills</td>\n",
       "      <td>Other</td>\n",
       "      <td>6 October-1</td>\n",
       "      <td>Giza</td>\n",
       "      <td>988000.0</td>\n",
       "    </tr>\n",
       "    <tr>\n",
       "      <td>5</td>\n",
       "      <td>Apartment</td>\n",
       "      <td>2.0</td>\n",
       "      <td>2.0</td>\n",
       "      <td>123</td>\n",
       "      <td>October Hills</td>\n",
       "      <td>Other</td>\n",
       "      <td>6 October-1</td>\n",
       "      <td>Giza</td>\n",
       "      <td>799500.0</td>\n",
       "    </tr>\n",
       "    <tr>\n",
       "      <td>...</td>\n",
       "      <td>...</td>\n",
       "      <td>...</td>\n",
       "      <td>...</td>\n",
       "      <td>...</td>\n",
       "      <td>...</td>\n",
       "      <td>...</td>\n",
       "      <td>...</td>\n",
       "      <td>...</td>\n",
       "      <td>...</td>\n",
       "    </tr>\n",
       "    <tr>\n",
       "      <td>22943</td>\n",
       "      <td>Villa</td>\n",
       "      <td>6.0</td>\n",
       "      <td>6.0</td>\n",
       "      <td>2500</td>\n",
       "      <td>Bani Sweif   Giza</td>\n",
       "      <td>Other</td>\n",
       "      <td>Badrashain</td>\n",
       "      <td>Giza</td>\n",
       "      <td>30000000.0</td>\n",
       "    </tr>\n",
       "    <tr>\n",
       "      <td>22944</td>\n",
       "      <td>Apartment</td>\n",
       "      <td>3.0</td>\n",
       "      <td>3.0</td>\n",
       "      <td>122</td>\n",
       "      <td>Katameya Gate</td>\n",
       "      <td>Other</td>\n",
       "      <td>Basatin</td>\n",
       "      <td>Cairo</td>\n",
       "      <td>1317600.0</td>\n",
       "    </tr>\n",
       "    <tr>\n",
       "      <td>22945</td>\n",
       "      <td>Apartment</td>\n",
       "      <td>2.0</td>\n",
       "      <td>2.0</td>\n",
       "      <td>140</td>\n",
       "      <td>Retaj</td>\n",
       "      <td>Other</td>\n",
       "      <td>New Cairo-1</td>\n",
       "      <td>Cairo</td>\n",
       "      <td>1500000.0</td>\n",
       "    </tr>\n",
       "    <tr>\n",
       "      <td>22946</td>\n",
       "      <td>Chalet</td>\n",
       "      <td>1.0</td>\n",
       "      <td>1.0</td>\n",
       "      <td>66</td>\n",
       "      <td>Pyramisa Beach Resort</td>\n",
       "      <td>Other</td>\n",
       "      <td>Safaga</td>\n",
       "      <td>Red Sea</td>\n",
       "      <td>250000.0</td>\n",
       "    </tr>\n",
       "    <tr>\n",
       "      <td>22947</td>\n",
       "      <td>Villa</td>\n",
       "      <td>3.0</td>\n",
       "      <td>3.0</td>\n",
       "      <td>301</td>\n",
       "      <td>Virginia Beach</td>\n",
       "      <td>Other</td>\n",
       "      <td>Al-Hammam</td>\n",
       "      <td>Matrouh</td>\n",
       "      <td>2500000.0</td>\n",
       "    </tr>\n",
       "  </tbody>\n",
       "</table>\n",
       "<p>22947 rows × 9 columns</p>\n",
       "</div>"
      ],
      "text/plain": [
       "        proptype  bed  bath   sqm                Compound Developer  \\\n",
       "1          Villa  5.0   5.0   670           October Hills     Other   \n",
       "2      Apartment  3.0   3.0   182           October Hills     Other   \n",
       "3          Villa  5.0   5.0   580           October Hills     Other   \n",
       "4      Apartment  2.0   2.0   152           October Hills     Other   \n",
       "5      Apartment  2.0   2.0   123           October Hills     Other   \n",
       "...          ...  ...   ...   ...                     ...       ...   \n",
       "22943      Villa  6.0   6.0  2500       Bani Sweif   Giza     Other   \n",
       "22944  Apartment  3.0   3.0   122           Katameya Gate     Other   \n",
       "22945  Apartment  2.0   2.0   140                   Retaj     Other   \n",
       "22946     Chalet  1.0   1.0    66   Pyramisa Beach Resort     Other   \n",
       "22947      Villa  3.0   3.0   301          Virginia Beach     Other   \n",
       "\n",
       "           ADM2_EN  ADM1_EN       price  \n",
       "1      6 October-1     Giza   6800000.0  \n",
       "2      6 October-1     Giza   1219400.0  \n",
       "3      6 October-1     Giza   9000000.0  \n",
       "4      6 October-1     Giza    988000.0  \n",
       "5      6 October-1     Giza    799500.0  \n",
       "...            ...      ...         ...  \n",
       "22943   Badrashain     Giza  30000000.0  \n",
       "22944      Basatin    Cairo   1317600.0  \n",
       "22945  New Cairo-1    Cairo   1500000.0  \n",
       "22946       Safaga  Red Sea    250000.0  \n",
       "22947    Al-Hammam  Matrouh   2500000.0  \n",
       "\n",
       "[22947 rows x 9 columns]"
      ]
     },
     "execution_count": 192,
     "metadata": {},
     "output_type": "execute_result"
    }
   ],
   "source": [
    "props"
   ]
  },
  {
   "cell_type": "code",
   "execution_count": 193,
   "metadata": {},
   "outputs": [
    {
     "name": "stdout",
     "output_type": "stream",
     "text": [
      "Apartment          10011\n",
      "Villa               5554\n",
      "Chalet              2690\n",
      "Townhouse           1703\n",
      "Twin House          1359\n",
      "Duplex               932\n",
      "Penthouse            663\n",
      "Hotel Apartment       34\n",
      "Bungalow               1\n",
      "Name: proptype, dtype: int64\n",
      "3.0    10244\n",
      "4.0     4842\n",
      "2.0     4095\n",
      "5.0     1838\n",
      "1.0      843\n",
      "6.0      578\n",
      "7.0      413\n",
      "0.0       88\n",
      "Name: bed, dtype: int64\n",
      "3.0    10244\n",
      "4.0     4842\n",
      "2.0     4095\n",
      "5.0     1838\n",
      "1.0      843\n",
      "6.0      578\n",
      "7.0      413\n",
      "0.0       88\n",
      "Name: bath, dtype: int64\n",
      "200      548\n",
      "140      466\n",
      "160      372\n",
      "300      348\n",
      "120      333\n",
      "        ... \n",
      "823        1\n",
      "935        1\n",
      "23500      1\n",
      "1047       1\n",
      "32         1\n",
      "Name: sqm, Length: 903, dtype: int64\n",
      " Mivida                     1297\n",
      " Madinaty                    870\n",
      " Marassi                     822\n",
      " Mountain View Hyde Park     665\n",
      " Hyde Park                   589\n",
      "                            ... \n",
      " Street 66                     1\n",
      " Al Nakhla Street              1\n",
      " Rashdan St.                   1\n",
      " Al Hay Al Thalith St.         1\n",
      " South Teseen St.              1\n",
      "Name: Compound, Length: 1607, dtype: int64\n",
      "Other                      8297\n",
      "Emaar                      2484\n",
      "Palm Hills                 1829\n",
      "Mountain View              1222\n",
      "SODIC                      1130\n",
      "Talaat Moustafa Group      1073\n",
      "Hyde Park Developments      589\n",
      "Tatweer Misr                556\n",
      "Rooya                       478\n",
      "La Vista                    446\n",
      "Lake View                   376\n",
      "MNHD                        352\n",
      "Degla CFM                   317\n",
      "Al Ahly                     276\n",
      "Amer Group                  266\n",
      "Hassan Allam                252\n",
      "Al-Futtaim                  235\n",
      "Inland Properties Group     226\n",
      "Madaar                      209\n",
      "Manazel                     199\n",
      "Ora                         174\n",
      "Orascom                     171\n",
      "Imkan Misr                  155\n",
      "Arco                        142\n",
      "Oscar Misr                  124\n",
      "Midtown                     111\n",
      "Brouj Egypt                 103\n",
      "Equity                      100\n",
      "Katameya Dunes              100\n",
      "City Edge                    99\n",
      "Beverly Hills                83\n",
      "Maxim                        82\n",
      "El Safwa                     77\n",
      "Seashell                     73\n",
      "Reedy Group                  72\n",
      "Travco Properties            71\n",
      "Al Marasem                   70\n",
      "Azzurra                      68\n",
      "Katameya Heights             68\n",
      "MBG                          67\n",
      "Tameer                       64\n",
      "The Village                  61\n",
      "Name: Developer, dtype: int64\n",
      "New Cairo-1        6836\n",
      "New Cairo-2        2859\n",
      "Zemam Out          2207\n",
      "Shaykh Zayed       1644\n",
      "Alamn              1510\n",
      "                   ... \n",
      "Al-Zohour             1\n",
      "Marg                  1\n",
      "Kardasa               1\n",
      "Tamya                 1\n",
      "Bulaq Al-DakrUr       1\n",
      "Name: ADM2_EN, Length: 76, dtype: int64\n",
      "Cairo          12890\n",
      "Giza            4085\n",
      "Matrouh         2102\n",
      "Suez            1427\n",
      "Red Sea          815\n",
      "Alexandria       413\n",
      "Dakahlia          92\n",
      "Kalyoubia         37\n",
      "South Sinai       20\n",
      "Damietta           7\n",
      "Menoufia           2\n",
      "Assiut             2\n",
      "Gharbia            2\n",
      "Suhag              1\n",
      "Ismailia           1\n",
      "Fayoum             1\n",
      "Port Said          1\n",
      "Name: ADM1_EN, dtype: int64\n",
      "3500000.0     374\n",
      "3000000.0     360\n",
      "2500000.0     348\n",
      "4000000.0     269\n",
      "4500000.0     266\n",
      "             ... \n",
      "1743790.0       1\n",
      "2176825.0       1\n",
      "3225395.0       1\n",
      "13950000.0      1\n",
      "2228236.0       1\n",
      "Name: price, Length: 4064, dtype: int64\n"
     ]
    }
   ],
   "source": [
    "for column in props:\n",
    "    print(props[column].value_counts())"
   ]
  },
  {
   "cell_type": "code",
   "execution_count": 194,
   "metadata": {},
   "outputs": [],
   "source": [
    "props = props.applymap(lambda x: x.strip()if isinstance(x, str) else x)"
   ]
  },
  {
   "cell_type": "markdown",
   "metadata": {},
   "source": [
    "Filter out properties with less than 1 bedroom"
   ]
  },
  {
   "cell_type": "code",
   "execution_count": 195,
   "metadata": {},
   "outputs": [],
   "source": [
    "props = props[props.bed >0]"
   ]
  },
  {
   "cell_type": "code",
   "execution_count": 196,
   "metadata": {},
   "outputs": [
    {
     "data": {
      "text/html": [
       "<div>\n",
       "<style scoped>\n",
       "    .dataframe tbody tr th:only-of-type {\n",
       "        vertical-align: middle;\n",
       "    }\n",
       "\n",
       "    .dataframe tbody tr th {\n",
       "        vertical-align: top;\n",
       "    }\n",
       "\n",
       "    .dataframe thead th {\n",
       "        text-align: right;\n",
       "    }\n",
       "</style>\n",
       "<table border=\"1\" class=\"dataframe\">\n",
       "  <thead>\n",
       "    <tr style=\"text-align: right;\">\n",
       "      <th></th>\n",
       "      <th>index</th>\n",
       "      <th>0</th>\n",
       "    </tr>\n",
       "  </thead>\n",
       "  <tbody>\n",
       "    <tr>\n",
       "      <td>6</td>\n",
       "      <td>ADM2_EN</td>\n",
       "      <td>True</td>\n",
       "    </tr>\n",
       "    <tr>\n",
       "      <td>7</td>\n",
       "      <td>ADM1_EN</td>\n",
       "      <td>True</td>\n",
       "    </tr>\n",
       "  </tbody>\n",
       "</table>\n",
       "</div>"
      ],
      "text/plain": [
       "     index     0\n",
       "6  ADM2_EN  True\n",
       "7  ADM1_EN  True"
      ]
     },
     "execution_count": 196,
     "metadata": {},
     "output_type": "execute_result"
    }
   ],
   "source": [
    "nacol = pd.DataFrame(props.isna().any()).reset_index()\n",
    "nacol = nacol[nacol[0] == True]\n",
    "nacol"
   ]
  },
  {
   "cell_type": "code",
   "execution_count": 246,
   "metadata": {},
   "outputs": [],
   "source": [
    "for i in nacol[\"index\"]:\n",
    "    props[i] = np.where(props[i].isna(),\"None\", props[i])"
   ]
  },
  {
   "cell_type": "markdown",
   "metadata": {},
   "source": [
    "Split x and y "
   ]
  },
  {
   "cell_type": "code",
   "execution_count": 247,
   "metadata": {},
   "outputs": [],
   "source": [
    "x = props.loc[:,\"proptype\":\"ADM1_EN\"]\n",
    "y = props.price"
   ]
  },
  {
   "cell_type": "markdown",
   "metadata": {},
   "source": [
    "Transform y to log"
   ]
  },
  {
   "cell_type": "code",
   "execution_count": 249,
   "metadata": {},
   "outputs": [],
   "source": [
    "y = np.log(y)"
   ]
  },
  {
   "cell_type": "markdown",
   "metadata": {},
   "source": [
    "# LABEL ENCODING AND TRAIN/TEST SPLIT"
   ]
  },
  {
   "cell_type": "code",
   "execution_count": 250,
   "metadata": {},
   "outputs": [],
   "source": [
    "props_obj = props.dtypes== object\n",
    "xcat = props_obj[props_obj == True].index\n",
    "\n",
    "le = preprocessing.LabelEncoder()\n",
    "\n",
    "for i in xcat:\n",
    "    x[i] = le.fit_transform(x[i])"
   ]
  },
  {
   "cell_type": "code",
   "execution_count": 251,
   "metadata": {},
   "outputs": [],
   "source": [
    "x, x_test, y, y_test = train_test_split(x, y, test_size=0.3, random_state=42)"
   ]
  },
  {
   "cell_type": "markdown",
   "metadata": {},
   "source": [
    "# RANDOM FOREST - INITIAL "
   ]
  },
  {
   "cell_type": "code",
   "execution_count": 252,
   "metadata": {},
   "outputs": [
    {
     "name": "stderr",
     "output_type": "stream",
     "text": [
      "/Users/fatemasoliman1/opt/anaconda3/lib/python3.7/site-packages/sklearn/ensemble/forest.py:245: FutureWarning: The default value of n_estimators will change from 10 in version 0.20 to 100 in 0.22.\n",
      "  \"10 in version 0.20 to 100 in 0.22.\", FutureWarning)\n"
     ]
    },
    {
     "data": {
      "text/plain": [
       "RandomForestRegressor(bootstrap=True, criterion='mse', max_depth=None,\n",
       "                      max_features='auto', max_leaf_nodes=None,\n",
       "                      min_impurity_decrease=0.0, min_impurity_split=None,\n",
       "                      min_samples_leaf=1, min_samples_split=2,\n",
       "                      min_weight_fraction_leaf=0.0, n_estimators=10,\n",
       "                      n_jobs=None, oob_score=False, random_state=None,\n",
       "                      verbose=0, warm_start=False)"
      ]
     },
     "execution_count": 252,
     "metadata": {},
     "output_type": "execute_result"
    }
   ],
   "source": [
    "rf = RandomForestRegressor()\n",
    "rf.fit(x,y)"
   ]
  },
  {
   "cell_type": "code",
   "execution_count": 253,
   "metadata": {},
   "outputs": [
    {
     "data": {
      "text/plain": [
       "array([0.71354552, 0.73992536, 0.75185636, 0.73477285, 0.75331112])"
      ]
     },
     "execution_count": 253,
     "metadata": {},
     "output_type": "execute_result"
    }
   ],
   "source": [
    "scores = cross_val_score(rf, x, y, cv=5)\n",
    "scores"
   ]
  },
  {
   "cell_type": "code",
   "execution_count": 254,
   "metadata": {},
   "outputs": [
    {
     "data": {
      "text/plain": [
       "0.43703443721804447"
      ]
     },
     "execution_count": 254,
     "metadata": {},
     "output_type": "execute_result"
    }
   ],
   "source": [
    "ypred_test = rf.predict(x_test)\n",
    "rmsle = np.sqrt(mean_squared_log_error(np.exp(y_test),np.exp(ypred_test)))\n",
    "rmsle"
   ]
  },
  {
   "cell_type": "markdown",
   "metadata": {},
   "source": [
    "# GRID SEARCH"
   ]
  },
  {
   "cell_type": "code",
   "execution_count": 259,
   "metadata": {},
   "outputs": [
    {
     "name": "stdout",
     "output_type": "stream",
     "text": [
      "Fitting 5 folds for each of 36 candidates, totalling 180 fits\n"
     ]
    },
    {
     "name": "stderr",
     "output_type": "stream",
     "text": [
      "[Parallel(n_jobs=-1)]: Using backend LokyBackend with 4 concurrent workers.\n",
      "[Parallel(n_jobs=-1)]: Done  42 tasks      | elapsed:    9.7s\n",
      "[Parallel(n_jobs=-1)]: Done 180 out of 180 | elapsed:   23.2s finished\n"
     ]
    },
    {
     "data": {
      "text/plain": [
       "GridSearchCV(cv=5, error_score='raise-deprecating',\n",
       "             estimator=RandomForestRegressor(bootstrap=True, criterion='mse',\n",
       "                                             max_depth=None,\n",
       "                                             max_features='auto',\n",
       "                                             max_leaf_nodes=None,\n",
       "                                             min_impurity_decrease=0.0,\n",
       "                                             min_impurity_split=None,\n",
       "                                             min_samples_leaf=1,\n",
       "                                             min_samples_split=2,\n",
       "                                             min_weight_fraction_leaf=0.0,\n",
       "                                             n_estimators=10, n_jobs=None,\n",
       "                                             oob_score=False, random_state=None,\n",
       "                                             verbose=0, warm_start=False),\n",
       "             iid='warn', n_jobs=-1,\n",
       "             param_grid={'max_depth': [3, 4, 5, 6, 7, 8, 9, 10, 11, 12, 13, 14],\n",
       "                         'max_features': ['auto'],\n",
       "                         'n_estimators': [2, 12, 22]},\n",
       "             pre_dispatch='2*n_jobs', refit=True, return_train_score=True,\n",
       "             scoring=None, verbose=True)"
      ]
     },
     "execution_count": 259,
     "metadata": {},
     "output_type": "execute_result"
    }
   ],
   "source": [
    "param_grid = { \n",
    "    'n_estimators': list(range(2,30,10)),\n",
    "    'max_features': ['auto'], \n",
    "    'max_depth': list(range(3,15)),  \n",
    "}\n",
    "\n",
    "\n",
    "rf_gs = GridSearchCV(rf, param_grid, cv = 5,return_train_score=True, n_jobs = -1, verbose = True)\n",
    "rf_gs.fit(x,y)"
   ]
  },
  {
   "cell_type": "code",
   "execution_count": 264,
   "metadata": {},
   "outputs": [
    {
     "data": {
      "text/plain": [
       "array([0.73143579, 0.76922828, 0.76957689, 0.7364101 , 0.76606763])"
      ]
     },
     "execution_count": 264,
     "metadata": {},
     "output_type": "execute_result"
    }
   ],
   "source": [
    "best_rf = rf_gs.best_estimator_\n",
    "scores = cross_val_score(best_rf, x, y, cv=5)\n",
    "scores"
   ]
  },
  {
   "cell_type": "code",
   "execution_count": 267,
   "metadata": {},
   "outputs": [
    {
     "data": {
      "text/plain": [
       "0.4179349867610109"
      ]
     },
     "execution_count": 267,
     "metadata": {},
     "output_type": "execute_result"
    }
   ],
   "source": [
    "ypred_test = best_rf.predict(x_test)\n",
    "rmsle = np.sqrt(mean_squared_log_error(np.exp(y_test), np.exp(ypred_test)))\n",
    "rmsle"
   ]
  },
  {
   "cell_type": "code",
   "execution_count": 272,
   "metadata": {},
   "outputs": [
    {
     "data": {
      "text/plain": [
       "sqm          0.697365\n",
       "Compound     0.076585\n",
       "Developer    0.075611\n",
       "proptype     0.048113\n",
       "ADM2_EN      0.045785\n",
       "ADM1_EN      0.031451\n",
       "bed          0.012802\n",
       "bath         0.012288\n",
       "dtype: float64"
      ]
     },
     "execution_count": 272,
     "metadata": {},
     "output_type": "execute_result"
    }
   ],
   "source": [
    "pd.Series(rf.feature_importances_, index=x.columns).sort_values(ascending=False)"
   ]
  },
  {
   "cell_type": "code",
   "execution_count": null,
   "metadata": {},
   "outputs": [],
   "source": []
  }
 ],
 "metadata": {
  "kernelspec": {
   "display_name": "Python 3",
   "language": "python",
   "name": "python3"
  },
  "language_info": {
   "codemirror_mode": {
    "name": "ipython",
    "version": 3
   },
   "file_extension": ".py",
   "mimetype": "text/x-python",
   "name": "python",
   "nbconvert_exporter": "python",
   "pygments_lexer": "ipython3",
   "version": "3.7.4"
  }
 },
 "nbformat": 4,
 "nbformat_minor": 2
}
